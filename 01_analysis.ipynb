{
 "cells": [
  {
   "cell_type": "markdown",
   "id": "66b1e439",
   "metadata": {},
   "source": [
    "## Exploratory Data Analysis: Player Age & Performance Metrics\n",
    "\n",
    "In this section, we will:\n",
    "\n",
    "- Summarize the dataset structure\n",
    "- Visualize the distribution of player ages\n",
    "- Explore relationships between age and key performance metrics"
   ]
  },
  {
   "cell_type": "code",
   "execution_count": 3,
   "id": "847187ba",
   "metadata": {},
   "outputs": [],
   "source": [
    "from src import utils\n",
    "\n",
    "path = \"/Users/charlierobinson/Documents/Code/SheffUtd/SUFC/data/SUFC Data Scientist RB Export 2024-25 (Complete).csv\"\n",
    "\n",
    "df = utils.load_data(path)"
   ]
  },
  {
   "cell_type": "code",
   "execution_count": 4,
   "id": "b400ac6d",
   "metadata": {},
   "outputs": [
    {
     "name": "stdout",
     "output_type": "stream",
     "text": [
      "Shape: (238, 147)\n",
      "Columns: ['Name', 'Team', 'Position', 'Nationality', 'Season', '(\u20ac) Market Value', 'Contract End', 'Age', 'Height (cm)', 'Side', 'Strong foot', 'GBE', 'Games', 'Minutes', 'Yellow Cards', 'Red Cards', '% Passing', 'Passes into Final \u2153', 'Completed Long Balls', '% Long Balls', 'Successful Short Passes', 'Long Balls Received', 'Passes per Long Ball', 'Average Pass Distance', 'Passes', '% Passing Contribution', '% Open Play Passes into Opp. Box', 'Blocked Shots', 'Tackles/Was Dribbled', 'Successful Tackles', 'Interceptions', 'Clearances', 'Fouls', 'Recoveries', 'Individual Pressure', 'Aggresive Actions', 'Quick Recoveries', 'Tackles/Was Dribbled \u2154', 'Tackles Attempted', 'Defensive Actions', '% High Defensive Actions', 'Individual Pressure Opp. Half', '% Ground Duels', '% Quick Recoveries', 'Diff. Defensive Distance Team', 'Non-Penalty Goals', 'Shots', 'Shooting', 'Finishing', 'Expected Goals', 'xG per Shot', 'Header per Shot', 'Header per Cross', 'xG per NPG', 'Headers', 'Goals', '% xG Open Play in Team', 'xG on Target', 'Finishing xGOT', 'xG Build Up in Team', 'Successful Dribbles', 'Touches In Opponent Box', 'Dribbles Attempted', '% Successful Dribbles', '% Ball Retention', '% Ball Retention in Opp. Half', 'Fouls Received', 'Touches', 'Dribbles Opp. Half', 'Bad Actions', 'Chances Created', 'Assists', 'Scoring Contribution', 'Open Play Key Passes', 'OP Passes into Box', 'Expected Assists', 'xAssists Open Play', 'xG Chain', 'xG Build Up', 'Ball Progression', 'Ball Prog. by Passing', 'Ball Prog. by Carrying', 'Expected Threat (xT)', 'xT Open Play', 'Progressive Passes Receive into Box', 'xGBuildup 5 passes', 'Chances Created Open Play', '% Ball Progression Opp. Half in Team', 'xT Passing', 'Entries Opp. Box', 'xT Dribbling', 'xT OP in Team', 'xAssists Open Play in Team', 'Aerial Efficiency', 'Aerial Wins', '% Aerial Wins', 'Aerial Wins Offensive', 'Aerial Wins Defensive', '% Aerial Defensive', 'Aerial Wins Own Box', '% Aerial Wins Own Box', 'Aerial Wins Opp Box', '% Aerial Wins Opp. Box', 'Aerial Duels', 'Aerials Total Opp. Half', 'Completed Crosses', '% Crossing', 'Cross Efficiency', 'Deep Progression', 'Progressive Carries', '% Carries', 'Average Carries Progress', 'Chance Ending Carries', 'Assist Ending Carries', 'Shot Ending Carries', 'Goal Ending Carries', 'Dispossessed', 'High Turnovers', 'Shot Ending High Turnovers', 'Goal Ending High Turnovers', 'Shot Ending Sequence', 'Goal Ending Sequence', 'Bypassed Players by Passes', 'Bypassed Defenders by Passes', 'Passes Bypassing Players', 'Passes Bypassing Defenders', 'Bypassed Players per Pass', 'Bypassed Defenders per Pass', 'Line Breaking Passes', 'Line Breaking Passes MD', 'Line Breaking Through Balls', '% Line Breaking Passes per Pass', 'Line Breaking Passes M', 'Total Passes Under Strong Pressure', 'Total Passes Under Pressure', 'Successful Passes Under Strong Pressure', 'Successful Passes Under Pressure', '% Passing Under Strong Pressure', '% Passing Under Pressure', 'Pass Receipts in Space Completed', 'Pass Receipts in Space', 'Total Strong on Ball Pressures', 'Total on Ball Pressures', 'Successful Strong on Ball Pressures', 'Successful On Ball Pressures', '% Strong on Ball Pressures', '% On Ball Pressures']\n",
      "                 Name               Team Position Nationality      Season  \\\n",
      "0        Daniel Mu\u00f1oz     Crystal Palace      DMR    Colombia  ENG I 2024   \n",
      "1   Aaron Wan Bissaka    West Ham United       DR    Congo DR  ENG I 2024   \n",
      "2            Ola Aina  Nottingham Forest       DR     Nigeria  ENG I 2024   \n",
      "3  Kyle Walker Peters        Southampton       DR     England  ENG I 2024   \n",
      "4        James Justin          Leicester       DR     England  ENG I 2024   \n",
      "\n",
      "   (\u20ac) Market Value Contract End  Age  Height (cm)        Side  ...  \\\n",
      "0           25000.0       Jun-29   29        181.0       Right  ...   \n",
      "1           24000.0       Jun-31   27        183.0       Right  ...   \n",
      "2           22000.0       Jun-29   28        184.0       Right  ...   \n",
      "3           15000.0       Jun-29   28        173.0  Left/Right  ...   \n",
      "4           13000.0       Jun-29   27        183.0       Right  ...   \n",
      "\n",
      "  % Passing Under Strong Pressure  % Passing Under Pressure  \\\n",
      "0                            70.4                      77.2   \n",
      "1                            78.3                      77.1   \n",
      "2                            73.4                        72   \n",
      "3                            84.3                      86.9   \n",
      "4                            63.3                      78.1   \n",
      "\n",
      "   Pass Receipts in Space Completed  Pass Receipts in Space  \\\n",
      "0                                83                     122   \n",
      "1                               116                      89   \n",
      "2                                95                      42   \n",
      "3                               119                      73   \n",
      "4                                80                      62   \n",
      "\n",
      "   Total Strong on Ball Pressures  Total on Ball Pressures  \\\n",
      "0                             254                      294   \n",
      "1                             210                      218   \n",
      "2                             142                      162   \n",
      "3                             161                      166   \n",
      "4                             206                      147   \n",
      "\n",
      "  Successful Strong on Ball Pressures Successful On Ball Pressures  \\\n",
      "0                                  57                           53   \n",
      "1                                  48                           47   \n",
      "2                                  27                           29   \n",
      "3                                  25                           29   \n",
      "4                                  38                           26   \n",
      "\n",
      "  % Strong on Ball Pressures % On Ball Pressures  \n",
      "0                       22.4                  18  \n",
      "1                       22.9                21.6  \n",
      "2                         19                17.9  \n",
      "3                       15.5                17.5  \n",
      "4                       18.4                17.7  \n",
      "\n",
      "[5 rows x 147 columns]\n",
      "Missing values per column:\n",
      "Name                                    0\n",
      "Team                                    0\n",
      "Position                                0\n",
      "Nationality                             0\n",
      "Season                                  0\n",
      "                                       ..\n",
      "Total on Ball Pressures                58\n",
      "Successful Strong on Ball Pressures    84\n",
      "Successful On Ball Pressures           77\n",
      "% Strong on Ball Pressures             84\n",
      "% On Ball Pressures                    77\n",
      "Length: 147, dtype: int64\n"
     ]
    },
    {
     "data": {
      "image/png": "[encoded data removed]",
      "text/plain": [
       "<Figure size 800x500 with 1 Axes>"
      ]
     },
     "metadata": {},
     "output_type": "display_data"
    },
    {
     "name": "stdout",
     "output_type": "stream",
     "text": [
      "Correlation matrix:\n",
      "                Age     Goals   Assists  % Passing\n",
      "Age        1.000000 -0.022941  0.012253   0.139565\n",
      "Goals     -0.022941  1.000000  0.460519   0.101807\n",
      "Assists    0.012253  0.460519  1.000000   0.160908\n",
      "% Passing  0.139565  0.101807  0.160908   1.000000\n"
     ]
    }
   ],
   "source": [
    "# 1. Quick summary of the dataset\n",
    "utils.quick_summary(df)\n",
    "\n",
    "# 2. Check missing values per column\n",
    "print('Missing values per column:')\n",
    "print(df.isnull().sum())\n",
    "\n",
    "# 3. Convert relevant columns to numeric (adjust column names as needed)\n",
    "numeric_cols = ['Age', 'Goals', 'Assists', 'Pass Completion %']\n",
    "df = utils.to_numeric_safe(df, numeric_cols)\n",
    "\n",
    "# 4. Visualize age distribution\n",
    "import matplotlib.pyplot as plt\n",
    "fig, ax = plt.subplots(figsize=(8,5))\n",
    "df['Age'].hist(bins=20, ax=ax, color='skyblue', edgecolor='black')\n",
    "ax.set_title('Distribution of Player Ages')\n",
    "ax.set_xlabel('Age')\n",
    "ax.set_ylabel('Count')\n",
    "plt.show()\n",
    "\n",
    "# 5. Correlation between age and performance metrics\n",
    "utils.show_correlations(df, ['Age', 'Goals', 'Assists', '% Passing'])"
   ]
  },
  {
   "cell_type": "markdown",
   "id": "correlation_viz",
   "metadata": {},
   "source": [
    "## 6. Correlation Heatmap\n",
    "\n",
    "Visualize correlations between age and performance metrics using a heatmap for easier interpretation."
   ]
  },
  {
   "cell_type": "code",
   "execution_count": null,
   "id": "plot_heatmap",
   "metadata": {},
   "outputs": [],
   "source": [
    "# Create correlation heatmap\n",
    "fig = utils.plot_correlation_heatmap(df, ['Age', 'Goals', 'Assists', '% Passing'])\n",
    "utils.save_fig(fig, 'outputs/correlation_heatmap.png')\n",
    "plt.show()"
   ]
  },
  {
   "cell_type": "markdown",
   "id": "scatter_plots",
   "metadata": {},
   "source": [
    "## 7. Age vs Performance Scatter Plots\n",
    "\n",
    "Examine the relationship between age and individual performance metrics."
   ]
  },
  {
   "cell_type": "code",
   "execution_count": null,
   "id": "plot_age_goals",
   "metadata": {},
   "outputs": [],
   "source": [
    "# Age vs Goals\n",
    "fig = utils.plot_age_vs_metric(df, 'Goals')\n",
    "utils.save_fig(fig, 'outputs/age_vs_goals.png')\n",
    "plt.show()"
   ]
  },
  {
   "cell_type": "code",
   "execution_count": null,
   "id": "plot_age_assists",
   "metadata": {},
   "outputs": [],
   "source": [
    "# Age vs Assists\n",
    "fig = utils.plot_age_vs_metric(df, 'Assists')\n",
    "utils.save_fig(fig, 'outputs/age_vs_assists.png')\n",
    "plt.show()"
   ]
  },
  {
   "cell_type": "code",
   "execution_count": null,
   "id": "plot_age_passing",
   "metadata": {},
   "outputs": [],
   "source": [
    "# Age vs Passing %\n",
    "fig = utils.plot_age_vs_metric(df, '% Passing')\n",
    "utils.save_fig(fig, 'outputs/age_vs_passing.png')\n",
    "plt.show()"
   ]
  },
  {
   "cell_type": "markdown",
   "id": "age_groups",
   "metadata": {},
   "source": [
    "## 8. Performance by Age Groups\n",
    "\n",
    "Compare performance metrics across different age groups."
   ]
  },
  {
   "cell_type": "code",
   "execution_count": null,
   "id": "plot_age_groups",
   "metadata": {},
   "outputs": [],
   "source": [
    "# Performance by age groups\n",
    "fig = utils.plot_age_distribution_by_groups(df)\n",
    "utils.save_fig(fig, 'outputs/performance_by_age_groups.png')\n",
    "plt.show()"
   ]
  },
  {
   "cell_type": "markdown",
   "id": "insights_section",
   "metadata": {},
   "source": [
    "## 9. Insights and Recommendations\n",
    "\n",
    "Generate a comprehensive report with insights and recommendations."
   ]
  },
  {
   "cell_type": "code",
   "execution_count": null,
   "id": "generate_insights",
   "metadata": {},
   "outputs": [],
   "source": [
    "# Generate and display insights\n",
    "insights = utils.generate_correlation_insights(df, ['Age', 'Goals', 'Assists', '% Passing'])\n",
    "print(insights)"
   ]
  },
  {
   "cell_type": "markdown",
   "id": "report_section",
   "metadata": {},
   "source": [
    "## 10. Complete EDA Report\n",
    "\n",
    "Generate a comprehensive report summarizing all findings."
   ]
  },
  {
   "cell_type": "code",
   "execution_count": null,
   "id": "generate_report",
   "metadata": {},
   "outputs": [],
   "source": [
    "# Generate complete report\n",
    "report = utils.generate_eda_report(\n",
    "    df, \n",
    "    ['Age', 'Goals', 'Assists', '% Passing'],\n",
    "    output_path='outputs/eda_report.md'\n",
    ")\n",
    "print(report)"
   ]
  }
 ],
 "metadata": {
  "kernelspec": {
   "display_name": ".venv (3.13.2)",
   "language": "python",
   "name": "python3"
  },
  "language_info": {
   "codemirror_mode": {
    "name": "ipython",
    "version": 3
   },
   "file_extension": ".py",
   "mimetype": "text/x-python",
   "name": "python",
   "nbconvert_exporter": "python",
   "pygments_lexer": "ipython3",
   "version": "3.13.2"
  }
 },
 "nbformat": 4,
 "nbformat_minor": 5
}